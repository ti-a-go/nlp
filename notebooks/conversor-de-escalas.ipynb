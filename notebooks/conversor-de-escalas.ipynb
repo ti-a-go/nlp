{
 "cells": [
  {
   "cell_type": "markdown",
   "id": "94386000-6650-4bcb-b931-9d3c9f459b1a",
   "metadata": {},
   "source": [
    "Converter kilos em gramas\n",
    "\n",
    "Converter kilos em miligramas"
   ]
  },
  {
   "cell_type": "code",
   "execution_count": 11,
   "id": "19bcfea8-302d-49c1-8015-86d19cdda6d1",
   "metadata": {},
   "outputs": [],
   "source": [
    "def somar(x, y):\n",
    "    return x + y\n",
    "\n",
    "def diminuir(x, y):\n",
    "    return x - y\n",
    "\n",
    "def multiplicar(x, y):\n",
    "    return x * y\n",
    "\n",
    "def dividir(x, y):\n",
    "    return x / y"
   ]
  },
  {
   "cell_type": "code",
   "execution_count": 12,
   "id": "e9fbef89-1dab-4d1f-99d9-3fd4aa6a722f",
   "metadata": {},
   "outputs": [
    {
     "data": {
      "text/plain": [
       "12"
      ]
     },
     "execution_count": 12,
     "metadata": {},
     "output_type": "execute_result"
    }
   ],
   "source": [
    "somar(10,2)"
   ]
  },
  {
   "cell_type": "code",
   "execution_count": 13,
   "id": "78d7b870-3b5a-4cae-9bf9-b25ebe10fc21",
   "metadata": {},
   "outputs": [
    {
     "data": {
      "text/plain": [
       "8"
      ]
     },
     "execution_count": 13,
     "metadata": {},
     "output_type": "execute_result"
    }
   ],
   "source": [
    "diminuir(10,2)"
   ]
  },
  {
   "cell_type": "code",
   "execution_count": 14,
   "id": "7048f1fd-355f-4e1e-a6a3-22f090570e0b",
   "metadata": {},
   "outputs": [
    {
     "data": {
      "text/plain": [
       "20"
      ]
     },
     "execution_count": 14,
     "metadata": {},
     "output_type": "execute_result"
    }
   ],
   "source": [
    "multiplicar(10,2)"
   ]
  },
  {
   "cell_type": "code",
   "execution_count": 15,
   "id": "b2706060-8fb8-4c41-be44-730dcb3b2b86",
   "metadata": {},
   "outputs": [
    {
     "data": {
      "text/plain": [
       "5.0"
      ]
     },
     "execution_count": 15,
     "metadata": {},
     "output_type": "execute_result"
    }
   ],
   "source": [
    "dividir(10,2)"
   ]
  },
  {
   "cell_type": "markdown",
   "id": "4360f3a8-6d9e-4df5-ad48-5b7954c4428f",
   "metadata": {},
   "source": [
    "Converter de kilos para gramas"
   ]
  },
  {
   "cell_type": "code",
   "execution_count": 20,
   "id": "b20480a7-113e-4255-bafa-7f315258b055",
   "metadata": {},
   "outputs": [],
   "source": [
    "def converter_kg_para_g(kilos):\n",
    "    return kilos * 1000"
   ]
  },
  {
   "cell_type": "code",
   "execution_count": 22,
   "id": "376870ef-e75d-446c-bfe6-4ba1541b3233",
   "metadata": {},
   "outputs": [
    {
     "data": {
      "text/plain": [
       "500.0"
      ]
     },
     "execution_count": 22,
     "metadata": {},
     "output_type": "execute_result"
    }
   ],
   "source": [
    "converter_kg_para_g(0.5)"
   ]
  },
  {
   "cell_type": "code",
   "execution_count": null,
   "id": "e3395382-94b4-4643-ad82-23790c12ef31",
   "metadata": {},
   "outputs": [],
   "source": []
  }
 ],
 "metadata": {
  "kernelspec": {
   "display_name": "Python 3 (ipykernel)",
   "language": "python",
   "name": "python3"
  },
  "language_info": {
   "codemirror_mode": {
    "name": "ipython",
    "version": 3
   },
   "file_extension": ".py",
   "mimetype": "text/x-python",
   "name": "python",
   "nbconvert_exporter": "python",
   "pygments_lexer": "ipython3",
   "version": "3.10.4"
  }
 },
 "nbformat": 4,
 "nbformat_minor": 5
}

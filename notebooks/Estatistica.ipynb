{
 "cells": [
  {
   "cell_type": "code",
   "execution_count": 26,
   "id": "9268f0fa-8103-4e58-9f29-9a389b0ab223",
   "metadata": {},
   "outputs": [],
   "source": [
    "import pandas as pd\n",
    "url =  \"https://pt.wikipedia.org/wiki/Lista_das_pessoas_mais_ricas_do_Brasil\""
   ]
  },
  {
   "cell_type": "code",
   "execution_count": 27,
   "id": "65d82a06-4d20-41f3-be3b-1bc7467f7a4b",
   "metadata": {},
   "outputs": [],
   "source": [
    "data = pd.read_html(url)\n",
    "# data"
   ]
  },
  {
   "cell_type": "code",
   "execution_count": 28,
   "id": "8bf17dea-f6b1-4be4-9f7b-89cccd75eef4",
   "metadata": {},
   "outputs": [
    {
     "data": {
      "text/html": [
       "<div>\n",
       "<style scoped>\n",
       "    .dataframe tbody tr th:only-of-type {\n",
       "        vertical-align: middle;\n",
       "    }\n",
       "\n",
       "    .dataframe tbody tr th {\n",
       "        vertical-align: top;\n",
       "    }\n",
       "\n",
       "    .dataframe thead th {\n",
       "        text-align: right;\n",
       "    }\n",
       "</style>\n",
       "<table border=\"1\" class=\"dataframe\">\n",
       "  <thead>\n",
       "    <tr style=\"text-align: right;\">\n",
       "      <th></th>\n",
       "      <th>Nº</th>\n",
       "      <th>Nome</th>\n",
       "      <th>Fortuna</th>\n",
       "      <th>Fonte da fortuna</th>\n",
       "    </tr>\n",
       "  </thead>\n",
       "  <tbody>\n",
       "    <tr>\n",
       "      <th>0</th>\n",
       "      <td>1.ª</td>\n",
       "      <td>André Santos Esteves</td>\n",
       "      <td>R$ 39,5 bilhões</td>\n",
       "      <td>Banco Pactual</td>\n",
       "    </tr>\n",
       "    <tr>\n",
       "      <th>1</th>\n",
       "      <td>2.ª</td>\n",
       "      <td>Vicky Sarfati Safra</td>\n",
       "      <td>R$ 37 bilhões</td>\n",
       "      <td>Banco Safra</td>\n",
       "    </tr>\n",
       "    <tr>\n",
       "      <th>2</th>\n",
       "      <td>3.ª</td>\n",
       "      <td>Jacob Safra e irmãos</td>\n",
       "      <td>R$ 35,5 bilhões</td>\n",
       "      <td>Banco Safra</td>\n",
       "    </tr>\n",
       "    <tr>\n",
       "      <th>3</th>\n",
       "      <td>4.ª</td>\n",
       "      <td>Pedro Moreira Salles</td>\n",
       "      <td>R$ 14 bilhões</td>\n",
       "      <td>Unibanco/CBMM</td>\n",
       "    </tr>\n",
       "    <tr>\n",
       "      <th>4</th>\n",
       "      <td>5.ª</td>\n",
       "      <td>Guilherme Benchimol</td>\n",
       "      <td>R$ 13,6 bilhões</td>\n",
       "      <td>XP Investimentos</td>\n",
       "    </tr>\n",
       "  </tbody>\n",
       "</table>\n",
       "</div>"
      ],
      "text/plain": [
       "    Nº                  Nome          Fortuna  Fonte da fortuna\n",
       "0  1.ª  André Santos Esteves  R$ 39,5 bilhões     Banco Pactual\n",
       "1  2.ª   Vicky Sarfati Safra    R$ 37 bilhões       Banco Safra\n",
       "2  3.ª  Jacob Safra e irmãos  R$ 35,5 bilhões       Banco Safra\n",
       "3  4.ª  Pedro Moreira Salles    R$ 14 bilhões     Unibanco/CBMM\n",
       "4  5.ª   Guilherme Benchimol  R$ 13,6 bilhões  XP Investimentos"
      ]
     },
     "execution_count": 28,
     "metadata": {},
     "output_type": "execute_result"
    }
   ],
   "source": [
    "df = data[10]\n",
    "df.head()"
   ]
  },
  {
   "cell_type": "code",
   "execution_count": 44,
   "id": "697c533a-e4b2-466b-8fd8-794f6b78e650",
   "metadata": {},
   "outputs": [
    {
     "name": "stdout",
     "output_type": "stream",
     "text": [
      "<class 'pandas.core.frame.DataFrame'>\n",
      "RangeIndex: 10 entries, 0 to 9\n",
      "Data columns (total 4 columns):\n",
      " #   Column            Non-Null Count  Dtype \n",
      "---  ------            --------------  ----- \n",
      " 0   Nº                10 non-null     object\n",
      " 1   Nome              10 non-null     object\n",
      " 2   Fortuna           10 non-null     object\n",
      " 3   Fonte da fortuna  10 non-null     object\n",
      "dtypes: object(4)\n",
      "memory usage: 448.0+ bytes\n"
     ]
    }
   ],
   "source": [
    "df.info()"
   ]
  },
  {
   "cell_type": "code",
   "execution_count": 43,
   "id": "6b5c16d7-bdc5-4e26-990d-930dc5edddde",
   "metadata": {},
   "outputs": [
    {
     "data": {
      "text/html": [
       "<div>\n",
       "<style scoped>\n",
       "    .dataframe tbody tr th:only-of-type {\n",
       "        vertical-align: middle;\n",
       "    }\n",
       "\n",
       "    .dataframe tbody tr th {\n",
       "        vertical-align: top;\n",
       "    }\n",
       "\n",
       "    .dataframe thead th {\n",
       "        text-align: right;\n",
       "    }\n",
       "</style>\n",
       "<table border=\"1\" class=\"dataframe\">\n",
       "  <thead>\n",
       "    <tr style=\"text-align: right;\">\n",
       "      <th></th>\n",
       "      <th>Nº</th>\n",
       "      <th>Nome</th>\n",
       "      <th>Fortuna</th>\n",
       "      <th>Fonte da fortuna</th>\n",
       "    </tr>\n",
       "  </thead>\n",
       "  <tbody>\n",
       "    <tr>\n",
       "      <th>count</th>\n",
       "      <td>10</td>\n",
       "      <td>10</td>\n",
       "      <td>10</td>\n",
       "      <td>10</td>\n",
       "    </tr>\n",
       "    <tr>\n",
       "      <th>unique</th>\n",
       "      <td>10</td>\n",
       "      <td>10</td>\n",
       "      <td>7</td>\n",
       "      <td>5</td>\n",
       "    </tr>\n",
       "    <tr>\n",
       "      <th>top</th>\n",
       "      <td>1.ª</td>\n",
       "      <td>André Santos Esteves</td>\n",
       "      <td>R$ 13,5 bilhões</td>\n",
       "      <td>Unibanco/CBMM</td>\n",
       "    </tr>\n",
       "    <tr>\n",
       "      <th>freq</th>\n",
       "      <td>1</td>\n",
       "      <td>1</td>\n",
       "      <td>3</td>\n",
       "      <td>4</td>\n",
       "    </tr>\n",
       "  </tbody>\n",
       "</table>\n",
       "</div>"
      ],
      "text/plain": [
       "         Nº                  Nome          Fortuna Fonte da fortuna\n",
       "count    10                    10               10               10\n",
       "unique   10                    10                7                5\n",
       "top     1.ª  André Santos Esteves  R$ 13,5 bilhões    Unibanco/CBMM\n",
       "freq      1                     1                3                4"
      ]
     },
     "execution_count": 43,
     "metadata": {},
     "output_type": "execute_result"
    }
   ],
   "source": [
    "df.describe()"
   ]
  },
  {
   "cell_type": "code",
   "execution_count": 35,
   "id": "f5ced77b-a29a-48b7-b7b6-0f33481dfd41",
   "metadata": {},
   "outputs": [
    {
     "data": {
      "text/html": [
       "<div>\n",
       "<style scoped>\n",
       "    .dataframe tbody tr th:only-of-type {\n",
       "        vertical-align: middle;\n",
       "    }\n",
       "\n",
       "    .dataframe tbody tr th {\n",
       "        vertical-align: top;\n",
       "    }\n",
       "\n",
       "    .dataframe thead th {\n",
       "        text-align: right;\n",
       "    }\n",
       "</style>\n",
       "<table border=\"1\" class=\"dataframe\">\n",
       "  <thead>\n",
       "    <tr style=\"text-align: right;\">\n",
       "      <th></th>\n",
       "      <th>Fortuna</th>\n",
       "    </tr>\n",
       "  </thead>\n",
       "  <tbody>\n",
       "    <tr>\n",
       "      <th>0</th>\n",
       "      <td>R$ 39,5 bilhões</td>\n",
       "    </tr>\n",
       "    <tr>\n",
       "      <th>1</th>\n",
       "      <td>R$ 37 bilhões</td>\n",
       "    </tr>\n",
       "    <tr>\n",
       "      <th>2</th>\n",
       "      <td>R$ 35,5 bilhões</td>\n",
       "    </tr>\n",
       "    <tr>\n",
       "      <th>3</th>\n",
       "      <td>R$ 14 bilhões</td>\n",
       "    </tr>\n",
       "    <tr>\n",
       "      <th>4</th>\n",
       "      <td>R$ 13,6 bilhões</td>\n",
       "    </tr>\n",
       "    <tr>\n",
       "      <th>5</th>\n",
       "      <td>R$ 13,5 bilhões</td>\n",
       "    </tr>\n",
       "    <tr>\n",
       "      <th>6</th>\n",
       "      <td>R$ 13,5 bilhões</td>\n",
       "    </tr>\n",
       "    <tr>\n",
       "      <th>7</th>\n",
       "      <td>R$ 13,5 bilhões</td>\n",
       "    </tr>\n",
       "    <tr>\n",
       "      <th>8</th>\n",
       "      <td>R$ 11,5 bilhões</td>\n",
       "    </tr>\n",
       "    <tr>\n",
       "      <th>9</th>\n",
       "      <td>R$ 11,5 bilhões</td>\n",
       "    </tr>\n",
       "  </tbody>\n",
       "</table>\n",
       "</div>"
      ],
      "text/plain": [
       "           Fortuna\n",
       "0  R$ 39,5 bilhões\n",
       "1    R$ 37 bilhões\n",
       "2  R$ 35,5 bilhões\n",
       "3    R$ 14 bilhões\n",
       "4  R$ 13,6 bilhões\n",
       "5  R$ 13,5 bilhões\n",
       "6  R$ 13,5 bilhões\n",
       "7  R$ 13,5 bilhões\n",
       "8  R$ 11,5 bilhões\n",
       "9  R$ 11,5 bilhões"
      ]
     },
     "execution_count": 35,
     "metadata": {},
     "output_type": "execute_result"
    }
   ],
   "source": [
    "pd.DataFrame(df[\"Fortuna\"])"
   ]
  },
  {
   "cell_type": "code",
   "execution_count": 88,
   "id": "bb0bce8c-4f48-4beb-b8a6-44b943e7ab00",
   "metadata": {},
   "outputs": [
    {
     "name": "stdout",
     "output_type": "stream",
     "text": [
      "39.5\n",
      "37\n",
      "35.5\n",
      "14\n",
      "13.6\n",
      "13.5\n",
      "13.5\n",
      "13.5\n",
      "11.5\n",
      "11.5\n"
     ]
    }
   ],
   "source": [
    "data = []\n",
    "for row in df.itertuples():\n",
    "    fortuna = getattr(row, \"Fortuna\")\n",
    "    fortuna = fortuna[3:]\n",
    "    fortuna = fortuna[:-8]\n",
    "    fortuna = fortuna.replace(\",\", \".\")\n",
    "    print(fortuna)\n",
    "    data.append(fortuna)"
   ]
  },
  {
   "cell_type": "code",
   "execution_count": 89,
   "id": "551548c4-083d-4f10-acbe-fc166b878eaa",
   "metadata": {},
   "outputs": [
    {
     "data": {
      "text/plain": [
       "['39.5', '37', '35.5', '14', '13.6', '13.5', '13.5', '13.5', '11.5', '11.5']"
      ]
     },
     "execution_count": 89,
     "metadata": {},
     "output_type": "execute_result"
    }
   ],
   "source": [
    "data"
   ]
  },
  {
   "cell_type": "code",
   "execution_count": 90,
   "id": "f6b2dd8c-d86a-465b-8780-b3bcd3ec8bc2",
   "metadata": {},
   "outputs": [],
   "source": [
    "df[\"Fortuna_\"] = data"
   ]
  },
  {
   "cell_type": "code",
   "execution_count": 91,
   "id": "fcf37072-9b42-4cbc-a937-1763d96ffddb",
   "metadata": {},
   "outputs": [
    {
     "data": {
      "text/html": [
       "<div>\n",
       "<style scoped>\n",
       "    .dataframe tbody tr th:only-of-type {\n",
       "        vertical-align: middle;\n",
       "    }\n",
       "\n",
       "    .dataframe tbody tr th {\n",
       "        vertical-align: top;\n",
       "    }\n",
       "\n",
       "    .dataframe thead th {\n",
       "        text-align: right;\n",
       "    }\n",
       "</style>\n",
       "<table border=\"1\" class=\"dataframe\">\n",
       "  <thead>\n",
       "    <tr style=\"text-align: right;\">\n",
       "      <th></th>\n",
       "      <th>Nº</th>\n",
       "      <th>Nome</th>\n",
       "      <th>Fortuna</th>\n",
       "      <th>Fonte da fortuna</th>\n",
       "      <th>Fortuna_</th>\n",
       "    </tr>\n",
       "  </thead>\n",
       "  <tbody>\n",
       "    <tr>\n",
       "      <th>0</th>\n",
       "      <td>1.ª</td>\n",
       "      <td>André Santos Esteves</td>\n",
       "      <td>R$ 39,5 bilhões</td>\n",
       "      <td>Banco Pactual</td>\n",
       "      <td>39.5</td>\n",
       "    </tr>\n",
       "    <tr>\n",
       "      <th>1</th>\n",
       "      <td>2.ª</td>\n",
       "      <td>Vicky Sarfati Safra</td>\n",
       "      <td>R$ 37 bilhões</td>\n",
       "      <td>Banco Safra</td>\n",
       "      <td>37</td>\n",
       "    </tr>\n",
       "    <tr>\n",
       "      <th>2</th>\n",
       "      <td>3.ª</td>\n",
       "      <td>Jacob Safra e irmãos</td>\n",
       "      <td>R$ 35,5 bilhões</td>\n",
       "      <td>Banco Safra</td>\n",
       "      <td>35.5</td>\n",
       "    </tr>\n",
       "    <tr>\n",
       "      <th>3</th>\n",
       "      <td>4.ª</td>\n",
       "      <td>Pedro Moreira Salles</td>\n",
       "      <td>R$ 14 bilhões</td>\n",
       "      <td>Unibanco/CBMM</td>\n",
       "      <td>14</td>\n",
       "    </tr>\n",
       "    <tr>\n",
       "      <th>4</th>\n",
       "      <td>5.ª</td>\n",
       "      <td>Guilherme Benchimol</td>\n",
       "      <td>R$ 13,6 bilhões</td>\n",
       "      <td>XP Investimentos</td>\n",
       "      <td>13.6</td>\n",
       "    </tr>\n",
       "  </tbody>\n",
       "</table>\n",
       "</div>"
      ],
      "text/plain": [
       "    Nº                  Nome          Fortuna  Fonte da fortuna Fortuna_\n",
       "0  1.ª  André Santos Esteves  R$ 39,5 bilhões     Banco Pactual     39.5\n",
       "1  2.ª   Vicky Sarfati Safra    R$ 37 bilhões       Banco Safra       37\n",
       "2  3.ª  Jacob Safra e irmãos  R$ 35,5 bilhões       Banco Safra     35.5\n",
       "3  4.ª  Pedro Moreira Salles    R$ 14 bilhões     Unibanco/CBMM       14\n",
       "4  5.ª   Guilherme Benchimol  R$ 13,6 bilhões  XP Investimentos     13.6"
      ]
     },
     "execution_count": 91,
     "metadata": {},
     "output_type": "execute_result"
    }
   ],
   "source": [
    "df.head()"
   ]
  },
  {
   "cell_type": "code",
   "execution_count": 92,
   "id": "77bac074-3f3e-4512-bbe8-e8f0a799aa38",
   "metadata": {},
   "outputs": [
    {
     "data": {
      "text/plain": [
       "0    39.5\n",
       "1    37.0\n",
       "2    35.5\n",
       "3    14.0\n",
       "4    13.6\n",
       "5    13.5\n",
       "6    13.5\n",
       "7    13.5\n",
       "8    11.5\n",
       "9    11.5\n",
       "Name: Fortuna_, dtype: float64"
      ]
     },
     "execution_count": 92,
     "metadata": {},
     "output_type": "execute_result"
    }
   ],
   "source": [
    "pd.to_numeric(df[\"Fortuna_\"])"
   ]
  },
  {
   "cell_type": "code",
   "execution_count": null,
   "id": "4d0db527-b9cc-4e08-9888-c986230faba7",
   "metadata": {},
   "outputs": [],
   "source": []
  },
  {
   "cell_type": "code",
   "execution_count": null,
   "id": "40e6e4d1-f794-4095-8473-e95ae7918c26",
   "metadata": {},
   "outputs": [],
   "source": []
  }
 ],
 "metadata": {
  "kernelspec": {
   "display_name": "Python 3 (ipykernel)",
   "language": "python",
   "name": "python3"
  },
  "language_info": {
   "codemirror_mode": {
    "name": "ipython",
    "version": 3
   },
   "file_extension": ".py",
   "mimetype": "text/x-python",
   "name": "python",
   "nbconvert_exporter": "python",
   "pygments_lexer": "ipython3",
   "version": "3.10.6"
  }
 },
 "nbformat": 4,
 "nbformat_minor": 5
}

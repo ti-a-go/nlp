{
 "cells": [
  {
   "cell_type": "code",
   "execution_count": 1,
   "id": "6f3160cf-e243-44b4-91c6-62ad4fa44fe6",
   "metadata": {},
   "outputs": [
    {
     "data": {
      "text/plain": [
       "12"
      ]
     },
     "execution_count": 1,
     "metadata": {},
     "output_type": "execute_result"
    }
   ],
   "source": [
    "10 + 2"
   ]
  },
  {
   "cell_type": "code",
   "execution_count": 2,
   "id": "d50abe8b-7c82-4b8a-8677-f1512eac10e2",
   "metadata": {},
   "outputs": [
    {
     "data": {
      "text/plain": [
       "8"
      ]
     },
     "execution_count": 2,
     "metadata": {},
     "output_type": "execute_result"
    }
   ],
   "source": [
    "10 - 2"
   ]
  },
  {
   "cell_type": "code",
   "execution_count": 3,
   "id": "31f95e93-8b97-470b-92c4-8190db834625",
   "metadata": {},
   "outputs": [
    {
     "data": {
      "text/plain": [
       "20"
      ]
     },
     "execution_count": 3,
     "metadata": {},
     "output_type": "execute_result"
    }
   ],
   "source": [
    "10 * 2"
   ]
  },
  {
   "cell_type": "code",
   "execution_count": 4,
   "id": "be0a48a1-10db-410a-b24e-b332269cf2e5",
   "metadata": {},
   "outputs": [
    {
     "data": {
      "text/plain": [
       "5.0"
      ]
     },
     "execution_count": 4,
     "metadata": {},
     "output_type": "execute_result"
    }
   ],
   "source": [
    "10 / 2"
   ]
  },
  {
   "cell_type": "code",
   "execution_count": 5,
   "id": "18eab8cb-cb96-4983-ba7a-a3ced2c7fb77",
   "metadata": {},
   "outputs": [
    {
     "data": {
      "text/plain": [
       "210"
      ]
     },
     "execution_count": 5,
     "metadata": {},
     "output_type": "execute_result"
    }
   ],
   "source": [
    "10 + 2 * 100"
   ]
  },
  {
   "cell_type": "code",
   "execution_count": 6,
   "id": "94a08e2d-845f-4d14-91ff-9e4ddbf0b847",
   "metadata": {},
   "outputs": [
    {
     "data": {
      "text/plain": [
       "1200"
      ]
     },
     "execution_count": 6,
     "metadata": {},
     "output_type": "execute_result"
    }
   ],
   "source": [
    "(10 + 2) * 100"
   ]
  },
  {
   "cell_type": "markdown",
   "id": "3aa7feda-55f8-4cd3-9a14-fefcd6cf8da5",
   "metadata": {},
   "source": [
    "Salário Mímimo"
   ]
  },
  {
   "cell_type": "code",
   "execution_count": 7,
   "id": "e1d06fbd-9821-44b6-a617-1832478c9156",
   "metadata": {},
   "outputs": [
    {
     "data": {
      "text/plain": [
       "1320"
      ]
     },
     "execution_count": 7,
     "metadata": {},
     "output_type": "execute_result"
    }
   ],
   "source": [
    "1320"
   ]
  },
  {
   "cell_type": "code",
   "execution_count": 10,
   "id": "911615e7-164a-43a7-b667-ce19bfa34590",
   "metadata": {},
   "outputs": [],
   "source": [
    "salario_minimo = 1320"
   ]
  },
  {
   "cell_type": "code",
   "execution_count": 11,
   "id": "de4a5139-6731-4309-998c-bac73c915229",
   "metadata": {},
   "outputs": [
    {
     "data": {
      "text/plain": [
       "2640"
      ]
     },
     "execution_count": 11,
     "metadata": {},
     "output_type": "execute_result"
    }
   ],
   "source": [
    "salario_minimo * 2"
   ]
  },
  {
   "cell_type": "code",
   "execution_count": null,
   "id": "544cefd3-40db-41df-9ce5-2999d1fd0614",
   "metadata": {},
   "outputs": [],
   "source": []
  }
 ],
 "metadata": {
  "kernelspec": {
   "display_name": "Python 3 (ipykernel)",
   "language": "python",
   "name": "python3"
  },
  "language_info": {
   "codemirror_mode": {
    "name": "ipython",
    "version": 3
   },
   "file_extension": ".py",
   "mimetype": "text/x-python",
   "name": "python",
   "nbconvert_exporter": "python",
   "pygments_lexer": "ipython3",
   "version": "3.10.4"
  }
 },
 "nbformat": 4,
 "nbformat_minor": 5
}

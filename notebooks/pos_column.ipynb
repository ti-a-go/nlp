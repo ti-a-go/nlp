{
 "cells": [
  {
   "cell_type": "code",
   "execution_count": 1,
   "id": "b193ca49-cbc8-4ae2-8a0a-99466027685a",
   "metadata": {},
   "outputs": [],
   "source": [
    "import pandas as pd"
   ]
  },
  {
   "cell_type": "code",
   "execution_count": 19,
   "id": "b893cc28-ef08-43d1-a166-8246e6a9282f",
   "metadata": {},
   "outputs": [
    {
     "data": {
      "text/html": [
       "<div>\n",
       "<style scoped>\n",
       "    .dataframe tbody tr th:only-of-type {\n",
       "        vertical-align: middle;\n",
       "    }\n",
       "\n",
       "    .dataframe tbody tr th {\n",
       "        vertical-align: top;\n",
       "    }\n",
       "\n",
       "    .dataframe thead th {\n",
       "        text-align: right;\n",
       "    }\n",
       "</style>\n",
       "<table border=\"1\" class=\"dataframe\">\n",
       "  <thead>\n",
       "    <tr style=\"text-align: right;\">\n",
       "      <th></th>\n",
       "      <th>Unnamed: 0</th>\n",
       "      <th>text</th>\n",
       "      <th>lemma</th>\n",
       "      <th>pos</th>\n",
       "      <th>tag</th>\n",
       "      <th>morph</th>\n",
       "      <th>ent_type</th>\n",
       "      <th>is_punct</th>\n",
       "      <th>dep</th>\n",
       "      <th>sentiment</th>\n",
       "    </tr>\n",
       "  </thead>\n",
       "  <tbody>\n",
       "    <tr>\n",
       "      <th>0</th>\n",
       "      <td>0</td>\n",
       "      <td>Contos</td>\n",
       "      <td>conto</td>\n",
       "      <td>NOUN</td>\n",
       "      <td>NOUN</td>\n",
       "      <td>Gender=Masc|Number=Plur</td>\n",
       "      <td>MISC</td>\n",
       "      <td>False</td>\n",
       "      <td>ROOT</td>\n",
       "      <td>0.0</td>\n",
       "    </tr>\n",
       "    <tr>\n",
       "      <th>1</th>\n",
       "      <td>1</td>\n",
       "      <td>Fluminenses</td>\n",
       "      <td>Fluminenses</td>\n",
       "      <td>ADJ</td>\n",
       "      <td>ADJ</td>\n",
       "      <td>Gender=Masc|Number=Plur</td>\n",
       "      <td>MISC</td>\n",
       "      <td>False</td>\n",
       "      <td>nummod</td>\n",
       "      <td>0.0</td>\n",
       "    </tr>\n",
       "    <tr>\n",
       "      <th>2</th>\n",
       "      <td>2</td>\n",
       "      <td>\\n\\n</td>\n",
       "      <td>\\n\\n</td>\n",
       "      <td>SPACE</td>\n",
       "      <td>SPACE</td>\n",
       "      <td>NaN</td>\n",
       "      <td>NaN</td>\n",
       "      <td>False</td>\n",
       "      <td>dep</td>\n",
       "      <td>0.0</td>\n",
       "    </tr>\n",
       "    <tr>\n",
       "      <th>3</th>\n",
       "      <td>3</td>\n",
       "      <td>ÍNDICE</td>\n",
       "      <td>ÍNDICE</td>\n",
       "      <td>NOUN</td>\n",
       "      <td>NOUN</td>\n",
       "      <td>Gender=Masc|Number=Plur</td>\n",
       "      <td>NaN</td>\n",
       "      <td>False</td>\n",
       "      <td>ROOT</td>\n",
       "      <td>0.0</td>\n",
       "    </tr>\n",
       "    <tr>\n",
       "      <th>4</th>\n",
       "      <td>4</td>\n",
       "      <td>\\n</td>\n",
       "      <td>\\n</td>\n",
       "      <td>SPACE</td>\n",
       "      <td>SPACE</td>\n",
       "      <td>NaN</td>\n",
       "      <td>NaN</td>\n",
       "      <td>False</td>\n",
       "      <td>dep</td>\n",
       "      <td>0.0</td>\n",
       "    </tr>\n",
       "  </tbody>\n",
       "</table>\n",
       "</div>"
      ],
      "text/plain": [
       "   Unnamed: 0         text        lemma    pos    tag  \\\n",
       "0           0       Contos        conto   NOUN   NOUN   \n",
       "1           1  Fluminenses  Fluminenses    ADJ    ADJ   \n",
       "2           2         \\n\\n         \\n\\n  SPACE  SPACE   \n",
       "3           3       ÍNDICE       ÍNDICE   NOUN   NOUN   \n",
       "4           4           \\n           \\n  SPACE  SPACE   \n",
       "\n",
       "                     morph ent_type  is_punct     dep  sentiment  \n",
       "0  Gender=Masc|Number=Plur     MISC     False    ROOT        0.0  \n",
       "1  Gender=Masc|Number=Plur     MISC     False  nummod        0.0  \n",
       "2                      NaN      NaN     False     dep        0.0  \n",
       "3  Gender=Masc|Number=Plur      NaN     False    ROOT        0.0  \n",
       "4                      NaN      NaN     False     dep        0.0  "
      ]
     },
     "execution_count": 19,
     "metadata": {},
     "output_type": "execute_result"
    }
   ],
   "source": [
    "contos_fluminenses_csv_path = '../data_warehouse/machado_de_assis/conto/contosFluminenses.csv'\n",
    "df = pd.read_csv(contos_fluminenses_csv_path)\n",
    "df.head()"
   ]
  },
  {
   "cell_type": "code",
   "execution_count": 20,
   "id": "83b7f737-b644-46c5-b158-5f63d1d6f7a0",
   "metadata": {},
   "outputs": [
    {
     "data": {
      "text/plain": [
       "Index(['Unnamed: 0', 'text', 'lemma', 'pos', 'tag', 'morph', 'ent_type',\n",
       "       'is_punct', 'dep', 'sentiment'],\n",
       "      dtype='object')"
      ]
     },
     "execution_count": 20,
     "metadata": {},
     "output_type": "execute_result"
    }
   ],
   "source": [
    "df.columns"
   ]
  },
  {
   "cell_type": "code",
   "execution_count": 21,
   "id": "8aaea4a8-4b74-4952-a67a-35364c7f655b",
   "metadata": {},
   "outputs": [],
   "source": [
    "df = df.drop(columns=['Unnamed: 0', 'lemma', 'tag', 'morph', 'ent_type', 'is_punct', 'dep', 'sentiment'])"
   ]
  },
  {
   "cell_type": "code",
   "execution_count": 22,
   "id": "9fc6c3b1-f879-4603-91eb-39a0fce1e6c8",
   "metadata": {},
   "outputs": [
    {
     "data": {
      "text/html": [
       "<div>\n",
       "<style scoped>\n",
       "    .dataframe tbody tr th:only-of-type {\n",
       "        vertical-align: middle;\n",
       "    }\n",
       "\n",
       "    .dataframe tbody tr th {\n",
       "        vertical-align: top;\n",
       "    }\n",
       "\n",
       "    .dataframe thead th {\n",
       "        text-align: right;\n",
       "    }\n",
       "</style>\n",
       "<table border=\"1\" class=\"dataframe\">\n",
       "  <thead>\n",
       "    <tr style=\"text-align: right;\">\n",
       "      <th></th>\n",
       "      <th>text</th>\n",
       "      <th>pos</th>\n",
       "    </tr>\n",
       "  </thead>\n",
       "  <tbody>\n",
       "    <tr>\n",
       "      <th>0</th>\n",
       "      <td>Contos</td>\n",
       "      <td>NOUN</td>\n",
       "    </tr>\n",
       "    <tr>\n",
       "      <th>1</th>\n",
       "      <td>Fluminenses</td>\n",
       "      <td>ADJ</td>\n",
       "    </tr>\n",
       "    <tr>\n",
       "      <th>2</th>\n",
       "      <td>\\n\\n</td>\n",
       "      <td>SPACE</td>\n",
       "    </tr>\n",
       "    <tr>\n",
       "      <th>3</th>\n",
       "      <td>ÍNDICE</td>\n",
       "      <td>NOUN</td>\n",
       "    </tr>\n",
       "    <tr>\n",
       "      <th>4</th>\n",
       "      <td>\\n</td>\n",
       "      <td>SPACE</td>\n",
       "    </tr>\n",
       "  </tbody>\n",
       "</table>\n",
       "</div>"
      ],
      "text/plain": [
       "          text    pos\n",
       "0       Contos   NOUN\n",
       "1  Fluminenses    ADJ\n",
       "2         \\n\\n  SPACE\n",
       "3       ÍNDICE   NOUN\n",
       "4           \\n  SPACE"
      ]
     },
     "execution_count": 22,
     "metadata": {},
     "output_type": "execute_result"
    }
   ],
   "source": [
    "df.head()"
   ]
  },
  {
   "cell_type": "code",
   "execution_count": 23,
   "id": "f7c1d3ff-973f-45b9-8c2d-79c995b56fc3",
   "metadata": {},
   "outputs": [
    {
     "data": {
      "text/plain": [
       "(72541, 2)"
      ]
     },
     "execution_count": 23,
     "metadata": {},
     "output_type": "execute_result"
    }
   ],
   "source": [
    "df.shape"
   ]
  },
  {
   "cell_type": "code",
   "execution_count": 24,
   "id": "3222577a-e27f-4df8-ab97-8a5a6f29a59b",
   "metadata": {},
   "outputs": [
    {
     "data": {
      "text/plain": [
       "PUNCT    11307\n",
       "NOUN     10786\n",
       "VERB      9566\n",
       "ADP       6763\n",
       "DET       6564\n",
       "SPACE     6148\n",
       "PRON      4145\n",
       "ADV       4111\n",
       "PROPN     2898\n",
       "ADJ       2807\n",
       "SCONJ     2353\n",
       "AUX       2216\n",
       "CCONJ     2079\n",
       "NUM        574\n",
       "INTJ       214\n",
       "X            9\n",
       "SYM          1\n",
       "Name: pos, dtype: int64"
      ]
     },
     "execution_count": 24,
     "metadata": {},
     "output_type": "execute_result"
    }
   ],
   "source": [
    "df.pos.value_counts()"
   ]
  },
  {
   "cell_type": "code",
   "execution_count": 25,
   "id": "1a791724-5693-481d-b986-90333bb9817e",
   "metadata": {},
   "outputs": [
    {
     "data": {
      "text/plain": [
       "PUNCT    0.155870\n",
       "NOUN     0.148688\n",
       "VERB     0.131870\n",
       "ADP      0.093230\n",
       "DET      0.090487\n",
       "SPACE    0.084752\n",
       "PRON     0.057140\n",
       "ADV      0.056671\n",
       "PROPN    0.039950\n",
       "ADJ      0.038695\n",
       "SCONJ    0.032437\n",
       "AUX      0.030548\n",
       "CCONJ    0.028660\n",
       "NUM      0.007913\n",
       "INTJ     0.002950\n",
       "X        0.000124\n",
       "SYM      0.000014\n",
       "Name: pos, dtype: float64"
      ]
     },
     "execution_count": 25,
     "metadata": {},
     "output_type": "execute_result"
    }
   ],
   "source": [
    "df.pos.value_counts(normalize=True)"
   ]
  },
  {
   "cell_type": "code",
   "execution_count": 28,
   "id": "f691e607-5975-4a7c-bb7c-2b7829bf236a",
   "metadata": {},
   "outputs": [
    {
     "data": {
      "text/html": [
       "<div>\n",
       "<style scoped>\n",
       "    .dataframe tbody tr th:only-of-type {\n",
       "        vertical-align: middle;\n",
       "    }\n",
       "\n",
       "    .dataframe tbody tr th {\n",
       "        vertical-align: top;\n",
       "    }\n",
       "\n",
       "    .dataframe thead th {\n",
       "        text-align: right;\n",
       "    }\n",
       "</style>\n",
       "<table border=\"1\" class=\"dataframe\">\n",
       "  <thead>\n",
       "    <tr style=\"text-align: right;\">\n",
       "      <th></th>\n",
       "      <th>text</th>\n",
       "      <th>pos</th>\n",
       "    </tr>\n",
       "  </thead>\n",
       "  <tbody>\n",
       "    <tr>\n",
       "      <th>0</th>\n",
       "      <td>Contos</td>\n",
       "      <td>NOUN</td>\n",
       "    </tr>\n",
       "    <tr>\n",
       "      <th>3</th>\n",
       "      <td>ÍNDICE</td>\n",
       "      <td>NOUN</td>\n",
       "    </tr>\n",
       "    <tr>\n",
       "      <th>5</th>\n",
       "      <td>MISS</td>\n",
       "      <td>NOUN</td>\n",
       "    </tr>\n",
       "    <tr>\n",
       "      <th>14</th>\n",
       "      <td>PRETO</td>\n",
       "      <td>NOUN</td>\n",
       "    </tr>\n",
       "    <tr>\n",
       "      <th>24</th>\n",
       "      <td>VIÚVA</td>\n",
       "      <td>NOUN</td>\n",
       "    </tr>\n",
       "  </tbody>\n",
       "</table>\n",
       "</div>"
      ],
      "text/plain": [
       "      text   pos\n",
       "0   Contos  NOUN\n",
       "3   ÍNDICE  NOUN\n",
       "5     MISS  NOUN\n",
       "14   PRETO  NOUN\n",
       "24   VIÚVA  NOUN"
      ]
     },
     "execution_count": 28,
     "metadata": {},
     "output_type": "execute_result"
    }
   ],
   "source": [
    "df = df[df['pos'] == 'NOUN']\n",
    "df.head()"
   ]
  },
  {
   "cell_type": "code",
   "execution_count": 29,
   "id": "2124df6d-4358-4544-8e0a-481113af4be9",
   "metadata": {},
   "outputs": [
    {
     "data": {
      "text/plain": [
       "(10786, 2)"
      ]
     },
     "execution_count": 29,
     "metadata": {},
     "output_type": "execute_result"
    }
   ],
   "source": [
    "df.shape"
   ]
  },
  {
   "cell_type": "code",
   "execution_count": 34,
   "id": "5d20dc1e-40e9-4b17-9fd4-a38bfb503bf3",
   "metadata": {},
   "outputs": [
    {
     "data": {
      "text/plain": [
       "casa      176\n",
       "carta     142\n",
       "dia       122\n",
       "tempo     114\n",
       "amor      114\n",
       "rapaz     109\n",
       "marido     97\n",
       "homem      95\n",
       "olhos      92\n",
       "coisa      91\n",
       "Name: text, dtype: int64"
      ]
     },
     "execution_count": 34,
     "metadata": {},
     "output_type": "execute_result"
    }
   ],
   "source": [
    "df.text.value_counts().head(10)"
   ]
  },
  {
   "cell_type": "code",
   "execution_count": 35,
   "id": "5ff73e39-5bd3-4e4c-9012-748cfa10f46d",
   "metadata": {},
   "outputs": [
    {
     "data": {
      "text/plain": [
       "casa      1.631745\n",
       "carta     1.316521\n",
       "dia       1.131096\n",
       "tempo     1.056926\n",
       "amor      1.056926\n",
       "rapaz     1.010569\n",
       "marido    0.899314\n",
       "homem     0.880771\n",
       "olhos     0.852958\n",
       "coisa     0.843686\n",
       "Name: text, dtype: float64"
      ]
     },
     "execution_count": 35,
     "metadata": {},
     "output_type": "execute_result"
    }
   ],
   "source": [
    "text_freq = df.text.value_counts(normalize=True) * 100\n",
    "text_freq.head(10)"
   ]
  },
  {
   "cell_type": "code",
   "execution_count": null,
   "id": "3f7e6674-eec3-4cf7-80aa-a8cbd2defb88",
   "metadata": {},
   "outputs": [],
   "source": []
  },
  {
   "cell_type": "code",
   "execution_count": null,
   "id": "5388404a-4eab-4f1e-acf0-afb5143b8a30",
   "metadata": {},
   "outputs": [],
   "source": []
  },
  {
   "cell_type": "code",
   "execution_count": null,
   "id": "984db2d2-483e-45f8-9b46-c7f25084cd00",
   "metadata": {},
   "outputs": [],
   "source": []
  }
 ],
 "metadata": {
  "kernelspec": {
   "display_name": "Python 3 (ipykernel)",
   "language": "python",
   "name": "python3"
  },
  "language_info": {
   "codemirror_mode": {
    "name": "ipython",
    "version": 3
   },
   "file_extension": ".py",
   "mimetype": "text/x-python",
   "name": "python",
   "nbconvert_exporter": "python",
   "pygments_lexer": "ipython3",
   "version": "3.10.4"
  }
 },
 "nbformat": 4,
 "nbformat_minor": 5
}

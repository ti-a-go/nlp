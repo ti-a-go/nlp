{
 "cells": [
  {
   "cell_type": "code",
   "execution_count": 1,
   "id": "a9b9dcb0-cbeb-43b6-a8de-cef71395c857",
   "metadata": {},
   "outputs": [],
   "source": [
    "import pandas as pd"
   ]
  },
  {
   "cell_type": "code",
   "execution_count": 3,
   "id": "a89fcdec-7739-4a0c-94a2-9f528a8ba76d",
   "metadata": {},
   "outputs": [
    {
     "data": {
      "text/html": [
       "<div>\n",
       "<style scoped>\n",
       "    .dataframe tbody tr th:only-of-type {\n",
       "        vertical-align: middle;\n",
       "    }\n",
       "\n",
       "    .dataframe tbody tr th {\n",
       "        vertical-align: top;\n",
       "    }\n",
       "\n",
       "    .dataframe thead th {\n",
       "        text-align: right;\n",
       "    }\n",
       "</style>\n",
       "<table border=\"1\" class=\"dataframe\">\n",
       "  <thead>\n",
       "    <tr style=\"text-align: right;\">\n",
       "      <th></th>\n",
       "      <th>Unnamed: 0</th>\n",
       "      <th>text</th>\n",
       "      <th>lemma</th>\n",
       "      <th>pos</th>\n",
       "      <th>tag</th>\n",
       "      <th>morph</th>\n",
       "      <th>ent_type</th>\n",
       "      <th>is_punct</th>\n",
       "      <th>dep</th>\n",
       "      <th>sentiment</th>\n",
       "    </tr>\n",
       "  </thead>\n",
       "  <tbody>\n",
       "    <tr>\n",
       "      <th>0</th>\n",
       "      <td>0</td>\n",
       "      <td>Contos</td>\n",
       "      <td>conto</td>\n",
       "      <td>NOUN</td>\n",
       "      <td>NOUN</td>\n",
       "      <td>Gender=Masc|Number=Plur</td>\n",
       "      <td>MISC</td>\n",
       "      <td>False</td>\n",
       "      <td>ROOT</td>\n",
       "      <td>0.0</td>\n",
       "    </tr>\n",
       "    <tr>\n",
       "      <th>1</th>\n",
       "      <td>1</td>\n",
       "      <td>Fluminenses</td>\n",
       "      <td>Fluminenses</td>\n",
       "      <td>ADJ</td>\n",
       "      <td>ADJ</td>\n",
       "      <td>Gender=Masc|Number=Plur</td>\n",
       "      <td>MISC</td>\n",
       "      <td>False</td>\n",
       "      <td>nummod</td>\n",
       "      <td>0.0</td>\n",
       "    </tr>\n",
       "    <tr>\n",
       "      <th>2</th>\n",
       "      <td>2</td>\n",
       "      <td>\\n\\n</td>\n",
       "      <td>\\n\\n</td>\n",
       "      <td>SPACE</td>\n",
       "      <td>SPACE</td>\n",
       "      <td>NaN</td>\n",
       "      <td>NaN</td>\n",
       "      <td>False</td>\n",
       "      <td>dep</td>\n",
       "      <td>0.0</td>\n",
       "    </tr>\n",
       "    <tr>\n",
       "      <th>3</th>\n",
       "      <td>3</td>\n",
       "      <td>ÍNDICE</td>\n",
       "      <td>ÍNDICE</td>\n",
       "      <td>NOUN</td>\n",
       "      <td>NOUN</td>\n",
       "      <td>Gender=Masc|Number=Plur</td>\n",
       "      <td>NaN</td>\n",
       "      <td>False</td>\n",
       "      <td>ROOT</td>\n",
       "      <td>0.0</td>\n",
       "    </tr>\n",
       "    <tr>\n",
       "      <th>4</th>\n",
       "      <td>4</td>\n",
       "      <td>\\n</td>\n",
       "      <td>\\n</td>\n",
       "      <td>SPACE</td>\n",
       "      <td>SPACE</td>\n",
       "      <td>NaN</td>\n",
       "      <td>NaN</td>\n",
       "      <td>False</td>\n",
       "      <td>dep</td>\n",
       "      <td>0.0</td>\n",
       "    </tr>\n",
       "  </tbody>\n",
       "</table>\n",
       "</div>"
      ],
      "text/plain": [
       "   Unnamed: 0         text        lemma    pos    tag  \\\n",
       "0           0       Contos        conto   NOUN   NOUN   \n",
       "1           1  Fluminenses  Fluminenses    ADJ    ADJ   \n",
       "2           2         \\n\\n         \\n\\n  SPACE  SPACE   \n",
       "3           3       ÍNDICE       ÍNDICE   NOUN   NOUN   \n",
       "4           4           \\n           \\n  SPACE  SPACE   \n",
       "\n",
       "                     morph ent_type  is_punct     dep  sentiment  \n",
       "0  Gender=Masc|Number=Plur     MISC     False    ROOT        0.0  \n",
       "1  Gender=Masc|Number=Plur     MISC     False  nummod        0.0  \n",
       "2                      NaN      NaN     False     dep        0.0  \n",
       "3  Gender=Masc|Number=Plur      NaN     False    ROOT        0.0  \n",
       "4                      NaN      NaN     False     dep        0.0  "
      ]
     },
     "execution_count": 3,
     "metadata": {},
     "output_type": "execute_result"
    }
   ],
   "source": [
    "contos_fluminenses_csv_path = '../data_warehouse/machado_de_assis/conto/contosFluminenses.csv'\n",
    "df = pd.read_csv(contos_fluminenses_csv_path)\n",
    "df.head()"
   ]
  },
  {
   "cell_type": "markdown",
   "id": "38c8a449-58f2-45f9-9d1f-84377be69bf7",
   "metadata": {
    "tags": []
   },
   "source": [
    "## Tarefa: remover a colunas 'Unnamed: 0' e 'sentiment'\n",
    "\n",
    "Essas colunas foram removidas por quê?"
   ]
  },
  {
   "cell_type": "code",
   "execution_count": 4,
   "id": "c0378a38-559a-4240-b699-15a4e0f02cf0",
   "metadata": {},
   "outputs": [
    {
     "data": {
      "text/html": [
       "<div>\n",
       "<style scoped>\n",
       "    .dataframe tbody tr th:only-of-type {\n",
       "        vertical-align: middle;\n",
       "    }\n",
       "\n",
       "    .dataframe tbody tr th {\n",
       "        vertical-align: top;\n",
       "    }\n",
       "\n",
       "    .dataframe thead th {\n",
       "        text-align: right;\n",
       "    }\n",
       "</style>\n",
       "<table border=\"1\" class=\"dataframe\">\n",
       "  <thead>\n",
       "    <tr style=\"text-align: right;\">\n",
       "      <th></th>\n",
       "      <th>text</th>\n",
       "      <th>lemma</th>\n",
       "      <th>pos</th>\n",
       "      <th>tag</th>\n",
       "      <th>morph</th>\n",
       "      <th>ent_type</th>\n",
       "      <th>is_punct</th>\n",
       "      <th>dep</th>\n",
       "    </tr>\n",
       "  </thead>\n",
       "  <tbody>\n",
       "    <tr>\n",
       "      <th>0</th>\n",
       "      <td>Contos</td>\n",
       "      <td>conto</td>\n",
       "      <td>NOUN</td>\n",
       "      <td>NOUN</td>\n",
       "      <td>Gender=Masc|Number=Plur</td>\n",
       "      <td>MISC</td>\n",
       "      <td>False</td>\n",
       "      <td>ROOT</td>\n",
       "    </tr>\n",
       "    <tr>\n",
       "      <th>1</th>\n",
       "      <td>Fluminenses</td>\n",
       "      <td>Fluminenses</td>\n",
       "      <td>ADJ</td>\n",
       "      <td>ADJ</td>\n",
       "      <td>Gender=Masc|Number=Plur</td>\n",
       "      <td>MISC</td>\n",
       "      <td>False</td>\n",
       "      <td>nummod</td>\n",
       "    </tr>\n",
       "    <tr>\n",
       "      <th>2</th>\n",
       "      <td>\\n\\n</td>\n",
       "      <td>\\n\\n</td>\n",
       "      <td>SPACE</td>\n",
       "      <td>SPACE</td>\n",
       "      <td>NaN</td>\n",
       "      <td>NaN</td>\n",
       "      <td>False</td>\n",
       "      <td>dep</td>\n",
       "    </tr>\n",
       "    <tr>\n",
       "      <th>3</th>\n",
       "      <td>ÍNDICE</td>\n",
       "      <td>ÍNDICE</td>\n",
       "      <td>NOUN</td>\n",
       "      <td>NOUN</td>\n",
       "      <td>Gender=Masc|Number=Plur</td>\n",
       "      <td>NaN</td>\n",
       "      <td>False</td>\n",
       "      <td>ROOT</td>\n",
       "    </tr>\n",
       "    <tr>\n",
       "      <th>4</th>\n",
       "      <td>\\n</td>\n",
       "      <td>\\n</td>\n",
       "      <td>SPACE</td>\n",
       "      <td>SPACE</td>\n",
       "      <td>NaN</td>\n",
       "      <td>NaN</td>\n",
       "      <td>False</td>\n",
       "      <td>dep</td>\n",
       "    </tr>\n",
       "  </tbody>\n",
       "</table>\n",
       "</div>"
      ],
      "text/plain": [
       "          text        lemma    pos    tag                    morph ent_type  \\\n",
       "0       Contos        conto   NOUN   NOUN  Gender=Masc|Number=Plur     MISC   \n",
       "1  Fluminenses  Fluminenses    ADJ    ADJ  Gender=Masc|Number=Plur     MISC   \n",
       "2         \\n\\n         \\n\\n  SPACE  SPACE                      NaN      NaN   \n",
       "3       ÍNDICE       ÍNDICE   NOUN   NOUN  Gender=Masc|Number=Plur      NaN   \n",
       "4           \\n           \\n  SPACE  SPACE                      NaN      NaN   \n",
       "\n",
       "   is_punct     dep  \n",
       "0     False    ROOT  \n",
       "1     False  nummod  \n",
       "2     False     dep  \n",
       "3     False    ROOT  \n",
       "4     False     dep  "
      ]
     },
     "execution_count": 4,
     "metadata": {},
     "output_type": "execute_result"
    }
   ],
   "source": [
    "df = df.drop(columns=['Unnamed: 0', 'sentiment'])\n",
    "df.head()"
   ]
  },
  {
   "cell_type": "markdown",
   "id": "79b69cbc-e5bd-499d-8d81-ba04887835ba",
   "metadata": {
    "tags": []
   },
   "source": [
    "## Tarefa: renomear os nomes das colunas"
   ]
  },
  {
   "cell_type": "code",
   "execution_count": 5,
   "id": "2166a7aa-e39f-43ad-9210-ef6090ec95df",
   "metadata": {},
   "outputs": [
    {
     "data": {
      "text/plain": [
       "Index(['text', 'lemma', 'pos', 'tag', 'morph', 'ent_type', 'is_punct', 'dep'], dtype='object')"
      ]
     },
     "execution_count": 5,
     "metadata": {},
     "output_type": "execute_result"
    }
   ],
   "source": [
    "df.columns"
   ]
  },
  {
   "cell_type": "code",
   "execution_count": 6,
   "id": "e5104b5f-fdd6-4c91-9197-68ed67d43e70",
   "metadata": {},
   "outputs": [],
   "source": [
    "df.columns = ['texto', 'lemma', 'pos', 'tag', 'morph', 'ent_type',\n",
    "       'is_punct', 'dep']"
   ]
  },
  {
   "cell_type": "code",
   "execution_count": 7,
   "id": "710f86f9-57c9-4326-96ad-015f6c76e9a7",
   "metadata": {},
   "outputs": [
    {
     "data": {
      "text/html": [
       "<div>\n",
       "<style scoped>\n",
       "    .dataframe tbody tr th:only-of-type {\n",
       "        vertical-align: middle;\n",
       "    }\n",
       "\n",
       "    .dataframe tbody tr th {\n",
       "        vertical-align: top;\n",
       "    }\n",
       "\n",
       "    .dataframe thead th {\n",
       "        text-align: right;\n",
       "    }\n",
       "</style>\n",
       "<table border=\"1\" class=\"dataframe\">\n",
       "  <thead>\n",
       "    <tr style=\"text-align: right;\">\n",
       "      <th></th>\n",
       "      <th>texto</th>\n",
       "      <th>lemma</th>\n",
       "      <th>pos</th>\n",
       "      <th>tag</th>\n",
       "      <th>morph</th>\n",
       "      <th>ent_type</th>\n",
       "      <th>is_punct</th>\n",
       "      <th>dep</th>\n",
       "    </tr>\n",
       "  </thead>\n",
       "  <tbody>\n",
       "    <tr>\n",
       "      <th>0</th>\n",
       "      <td>Contos</td>\n",
       "      <td>conto</td>\n",
       "      <td>NOUN</td>\n",
       "      <td>NOUN</td>\n",
       "      <td>Gender=Masc|Number=Plur</td>\n",
       "      <td>MISC</td>\n",
       "      <td>False</td>\n",
       "      <td>ROOT</td>\n",
       "    </tr>\n",
       "    <tr>\n",
       "      <th>1</th>\n",
       "      <td>Fluminenses</td>\n",
       "      <td>Fluminenses</td>\n",
       "      <td>ADJ</td>\n",
       "      <td>ADJ</td>\n",
       "      <td>Gender=Masc|Number=Plur</td>\n",
       "      <td>MISC</td>\n",
       "      <td>False</td>\n",
       "      <td>nummod</td>\n",
       "    </tr>\n",
       "    <tr>\n",
       "      <th>2</th>\n",
       "      <td>\\n\\n</td>\n",
       "      <td>\\n\\n</td>\n",
       "      <td>SPACE</td>\n",
       "      <td>SPACE</td>\n",
       "      <td>NaN</td>\n",
       "      <td>NaN</td>\n",
       "      <td>False</td>\n",
       "      <td>dep</td>\n",
       "    </tr>\n",
       "    <tr>\n",
       "      <th>3</th>\n",
       "      <td>ÍNDICE</td>\n",
       "      <td>ÍNDICE</td>\n",
       "      <td>NOUN</td>\n",
       "      <td>NOUN</td>\n",
       "      <td>Gender=Masc|Number=Plur</td>\n",
       "      <td>NaN</td>\n",
       "      <td>False</td>\n",
       "      <td>ROOT</td>\n",
       "    </tr>\n",
       "    <tr>\n",
       "      <th>4</th>\n",
       "      <td>\\n</td>\n",
       "      <td>\\n</td>\n",
       "      <td>SPACE</td>\n",
       "      <td>SPACE</td>\n",
       "      <td>NaN</td>\n",
       "      <td>NaN</td>\n",
       "      <td>False</td>\n",
       "      <td>dep</td>\n",
       "    </tr>\n",
       "  </tbody>\n",
       "</table>\n",
       "</div>"
      ],
      "text/plain": [
       "         texto        lemma    pos    tag                    morph ent_type  \\\n",
       "0       Contos        conto   NOUN   NOUN  Gender=Masc|Number=Plur     MISC   \n",
       "1  Fluminenses  Fluminenses    ADJ    ADJ  Gender=Masc|Number=Plur     MISC   \n",
       "2         \\n\\n         \\n\\n  SPACE  SPACE                      NaN      NaN   \n",
       "3       ÍNDICE       ÍNDICE   NOUN   NOUN  Gender=Masc|Number=Plur      NaN   \n",
       "4           \\n           \\n  SPACE  SPACE                      NaN      NaN   \n",
       "\n",
       "   is_punct     dep  \n",
       "0     False    ROOT  \n",
       "1     False  nummod  \n",
       "2     False     dep  \n",
       "3     False    ROOT  \n",
       "4     False     dep  "
      ]
     },
     "execution_count": 7,
     "metadata": {},
     "output_type": "execute_result"
    }
   ],
   "source": [
    "df.head()"
   ]
  },
  {
   "cell_type": "markdown",
   "id": "cb350c4b-fab2-4734-bff9-75c06aa914d3",
   "metadata": {
    "tags": []
   },
   "source": [
    "## Tarefa: Valores"
   ]
  },
  {
   "cell_type": "markdown",
   "id": "e79bf5f3-29f1-4cae-ba50-cd56b83beb57",
   "metadata": {},
   "source": [
    "### Valores da coluna [tag]"
   ]
  },
  {
   "cell_type": "code",
   "execution_count": 8,
   "id": "d0fcfda1-ffdf-4178-8c4f-97d9330b77e4",
   "metadata": {
    "jupyter": {
     "source_hidden": true
    },
    "tags": []
   },
   "outputs": [
    {
     "data": {
      "text/plain": [
       "PUNCT    15.587047\n",
       "NOUN     14.868833\n",
       "VERB     13.187025\n",
       "ADP       9.323004\n",
       "DET       9.048676\n",
       "SPACE     8.475207\n",
       "PRON      5.714010\n",
       "ADV       5.667140\n",
       "PROPN     3.994982\n",
       "ADJ       3.869536\n",
       "SCONJ     3.243683\n",
       "AUX       3.054824\n",
       "CCONJ     2.865965\n",
       "NUM       0.791277\n",
       "INTJ      0.295006\n",
       "X         0.012407\n",
       "SYM       0.001379\n",
       "Name: tag, dtype: float64"
      ]
     },
     "execution_count": 8,
     "metadata": {},
     "output_type": "execute_result"
    }
   ],
   "source": [
    "colum_tag = df.tag\n",
    "colum_tag.value_counts(normalize=True) * 100"
   ]
  },
  {
   "cell_type": "markdown",
   "id": "a7087110-de63-4020-8129-a2da971af3e4",
   "metadata": {},
   "source": [
    "### Valores da coluna [pos]"
   ]
  },
  {
   "cell_type": "code",
   "execution_count": 9,
   "id": "da071c9b-348a-40c5-a132-a1343973c6c0",
   "metadata": {
    "tags": []
   },
   "outputs": [
    {
     "data": {
      "text/plain": [
       "PUNCT    15.587047\n",
       "NOUN     14.868833\n",
       "VERB     13.187025\n",
       "ADP       9.323004\n",
       "DET       9.048676\n",
       "SPACE     8.475207\n",
       "PRON      5.714010\n",
       "ADV       5.667140\n",
       "PROPN     3.994982\n",
       "ADJ       3.869536\n",
       "SCONJ     3.243683\n",
       "AUX       3.054824\n",
       "CCONJ     2.865965\n",
       "NUM       0.791277\n",
       "INTJ      0.295006\n",
       "X         0.012407\n",
       "SYM       0.001379\n",
       "Name: pos, dtype: float64"
      ]
     },
     "execution_count": 9,
     "metadata": {},
     "output_type": "execute_result"
    }
   ],
   "source": [
    "colum_pos = df.pos\n",
    "colum_pos.value_counts(normalize=True) * 100"
   ]
  },
  {
   "cell_type": "markdown",
   "id": "2a9b238f-d9af-43ee-b3f1-d2bbaa55a4ba",
   "metadata": {},
   "source": [
    "### Valores da coluna [lemma]"
   ]
  },
  {
   "cell_type": "code",
   "execution_count": 10,
   "id": "d9e244c0-1492-47b3-ab41-b564bc2c1270",
   "metadata": {},
   "outputs": [
    {
     "data": {
      "text/plain": [
       "\\n           8.472450\n",
       ".            5.150191\n",
       "o            5.074372\n",
       ",            4.666327\n",
       "que          2.809446\n",
       "               ...   \n",
       "mediano      0.001379\n",
       "aturava-o    0.001379\n",
       "corado       0.001379\n",
       "garço        0.001379\n",
       "FIM          0.001379\n",
       "Name: lemma, Length: 6497, dtype: float64"
      ]
     },
     "execution_count": 10,
     "metadata": {},
     "output_type": "execute_result"
    }
   ],
   "source": [
    "colum_lemma = df.lemma\n",
    "colum_lemma.value_counts(normalize=True) * 100"
   ]
  },
  {
   "cell_type": "markdown",
   "id": "3d0abf5e-95ed-4253-bdb5-1de5792c370f",
   "metadata": {},
   "source": [
    "### Valores da coluna [texto]"
   ]
  },
  {
   "cell_type": "code",
   "execution_count": 11,
   "id": "05bc906c-0a85-4b26-a1f1-de61538bf59b",
   "metadata": {},
   "outputs": [
    {
     "data": {
      "text/plain": [
       "\\n              8.472450\n",
       ".               5.150191\n",
       ",               4.666327\n",
       "que             2.707434\n",
       "a               2.572338\n",
       "                  ...   \n",
       "subdelegados    0.001379\n",
       "demitidos       0.001379\n",
       "preteridos      0.001379\n",
       "suportá-lo      0.001379\n",
       "FIM             0.001379\n",
       "Name: texto, Length: 8766, dtype: float64"
      ]
     },
     "execution_count": 11,
     "metadata": {},
     "output_type": "execute_result"
    }
   ],
   "source": [
    "colum_texto = df.texto\n",
    "colum_texto.value_counts(normalize=True) * 100"
   ]
  },
  {
   "cell_type": "markdown",
   "id": "642e6fae-71e8-4222-aa30-408f0d774c3d",
   "metadata": {},
   "source": [
    "### Valores da coluna [morph]"
   ]
  },
  {
   "cell_type": "code",
   "execution_count": 12,
   "id": "9c6f73f9-5e5c-4970-8730-8ce6e5eb6c0f",
   "metadata": {},
   "outputs": [
    {
     "data": {
      "text/plain": [
       "Gender=Masc|Number=Sing                                                                  16.647141\n",
       "Gender=Fem|Number=Sing                                                                   13.819401\n",
       "Definite=Def|Gender=Masc|Number=Sing|PronType=Art                                         5.970184\n",
       "Definite=Def|Gender=Fem|Number=Sing|PronType=Art                                          5.800198\n",
       "Mood=Ind|Number=Sing|Person=3|Tense=Past|VerbForm=Fin                                     4.591919\n",
       "                                                                                           ...    \n",
       "Case=Dat|Number=Sing|Person=3|PronType=Prs|VerbForm=Inf                                   0.002297\n",
       "Case=Dat|Mood=Ind|Number=Plur,Sing|Person=1,3|PronType=Prs|Tense=Past|VerbForm=Fin        0.002297\n",
       "Case=Dat|Mood=Cnd|Number=Sing|Person=1,3|PronType=Prs|VerbForm=Fin                        0.002297\n",
       "Case=Dat|Gender=Fem|Mood=Ind|Number=Sing|Person=3|PronType=Prs|Tense=Imp|VerbForm=Fin     0.002297\n",
       "Case=Dat|Gender=Masc|Number=Plur|Person=3|PronType=Prs|VerbForm=Inf                       0.002297\n",
       "Name: morph, Length: 223, dtype: float64"
      ]
     },
     "execution_count": 12,
     "metadata": {},
     "output_type": "execute_result"
    }
   ],
   "source": [
    "colum_morph = df.morph\n",
    "colum_morph.value_counts(normalize=True) * 100"
   ]
  },
  {
   "cell_type": "markdown",
   "id": "c01d7f44-b01f-4349-8f73-1f8737a98539",
   "metadata": {},
   "source": [
    "### Valores da coluna [ent_type]"
   ]
  },
  {
   "cell_type": "code",
   "execution_count": 13,
   "id": "573499cf-f383-4e1b-97bb-0f6a4535eb58",
   "metadata": {},
   "outputs": [
    {
     "data": {
      "text/plain": [
       "PER     60.949132\n",
       "MISC    19.571960\n",
       "LOC     16.749380\n",
       "ORG      2.729529\n",
       "Name: ent_type, dtype: float64"
      ]
     },
     "execution_count": 13,
     "metadata": {},
     "output_type": "execute_result"
    }
   ],
   "source": [
    "colum_ent_type = df.ent_type\n",
    "colum_ent_type.value_counts(normalize=True) * 100"
   ]
  },
  {
   "cell_type": "markdown",
   "id": "56f79aef-5be6-43a2-b1c7-addb8cea7726",
   "metadata": {},
   "source": [
    "### Valores da coluna [is_punct]"
   ]
  },
  {
   "cell_type": "code",
   "execution_count": 14,
   "id": "4618c910-95ca-49a5-b5ea-c46e4a00a250",
   "metadata": {},
   "outputs": [
    {
     "data": {
      "text/plain": [
       "False    84.412953\n",
       "True     15.587047\n",
       "Name: is_punct, dtype: float64"
      ]
     },
     "execution_count": 14,
     "metadata": {},
     "output_type": "execute_result"
    }
   ],
   "source": [
    "colum_is_punct = df.is_punct\n",
    "colum_is_punct.value_counts(normalize=True) * 100"
   ]
  },
  {
   "cell_type": "markdown",
   "id": "ae7b8ff3-92ca-4465-920e-17a7ac6fc444",
   "metadata": {},
   "source": [
    "### Valores da coluna [dep]"
   ]
  },
  {
   "cell_type": "code",
   "execution_count": 15,
   "id": "bfed684c-1d1c-453b-9ed2-e0575b5a0187",
   "metadata": {},
   "outputs": [
    {
     "data": {
      "text/plain": [
       "punct           15.434030\n",
       "dep              9.209964\n",
       "case             9.178258\n",
       "det              9.005941\n",
       "nsubj            6.094484\n",
       "ROOT             5.931818\n",
       "obj              5.913897\n",
       "advmod           5.165355\n",
       "obl              4.156270\n",
       "nmod             3.666892\n",
       "mark             3.239547\n",
       "conj             3.010711\n",
       "cc               2.879751\n",
       "cop              2.384858\n",
       "amod             2.375209\n",
       "xcomp            1.888587\n",
       "parataxis        1.695593\n",
       "advcl            1.644587\n",
       "ccomp            1.359231\n",
       "acl:relcl        1.286169\n",
       "acl              0.678237\n",
       "nummod           0.550034\n",
       "fixed            0.548655\n",
       "flat:name        0.496271\n",
       "iobj             0.478350\n",
       "aux              0.443887\n",
       "appos            0.402531\n",
       "expl             0.277085\n",
       "csubj            0.249514\n",
       "aux:pass         0.133717\n",
       "nsubj:pass       0.077198\n",
       "obl:agent        0.074441\n",
       "discourse        0.039977\n",
       "compound         0.019299\n",
       "flat             0.008271\n",
       "flat:foreign     0.001379\n",
       "Name: dep, dtype: float64"
      ]
     },
     "execution_count": 15,
     "metadata": {},
     "output_type": "execute_result"
    }
   ],
   "source": [
    "colum_is_dep = df.dep\n",
    "colum_is_dep.value_counts(normalize=True) * 100"
   ]
  },
  {
   "cell_type": "code",
   "execution_count": 16,
   "id": "a2107207-e256-4f73-adca-78cc73151e08",
   "metadata": {},
   "outputs": [],
   "source": [
    "newlist = [df[column].value_counts(normalize=True) * 100 for column in df.columns]"
   ]
  },
  {
   "cell_type": "code",
   "execution_count": 17,
   "id": "64eddc7c-3bb2-4899-81de-7d1efbe1e295",
   "metadata": {},
   "outputs": [
    {
     "name": "stdout",
     "output_type": "stream",
     "text": [
      "texto\n",
      "\\n              8.472450\n",
      ".               5.150191\n",
      ",               4.666327\n",
      "que             2.707434\n",
      "a               2.572338\n",
      "                  ...   \n",
      "subdelegados    0.001379\n",
      "demitidos       0.001379\n",
      "preteridos      0.001379\n",
      "suportá-lo      0.001379\n",
      "FIM             0.001379\n",
      "Name: texto, Length: 8766, dtype: float64\n",
      "lemma\n",
      "\\n           8.472450\n",
      ".            5.150191\n",
      "o            5.074372\n",
      ",            4.666327\n",
      "que          2.809446\n",
      "               ...   \n",
      "mediano      0.001379\n",
      "aturava-o    0.001379\n",
      "corado       0.001379\n",
      "garço        0.001379\n",
      "FIM          0.001379\n",
      "Name: lemma, Length: 6497, dtype: float64\n",
      "pos\n",
      "PUNCT    15.587047\n",
      "NOUN     14.868833\n",
      "VERB     13.187025\n",
      "ADP       9.323004\n",
      "DET       9.048676\n",
      "SPACE     8.475207\n",
      "PRON      5.714010\n",
      "ADV       5.667140\n",
      "PROPN     3.994982\n",
      "ADJ       3.869536\n",
      "SCONJ     3.243683\n",
      "AUX       3.054824\n",
      "CCONJ     2.865965\n",
      "NUM       0.791277\n",
      "INTJ      0.295006\n",
      "X         0.012407\n",
      "SYM       0.001379\n",
      "Name: pos, dtype: float64\n",
      "tag\n",
      "PUNCT    15.587047\n",
      "NOUN     14.868833\n",
      "VERB     13.187025\n",
      "ADP       9.323004\n",
      "DET       9.048676\n",
      "SPACE     8.475207\n",
      "PRON      5.714010\n",
      "ADV       5.667140\n",
      "PROPN     3.994982\n",
      "ADJ       3.869536\n",
      "SCONJ     3.243683\n",
      "AUX       3.054824\n",
      "CCONJ     2.865965\n",
      "NUM       0.791277\n",
      "INTJ      0.295006\n",
      "X         0.012407\n",
      "SYM       0.001379\n",
      "Name: tag, dtype: float64\n",
      "morph\n",
      "Gender=Masc|Number=Sing                                                                  16.647141\n",
      "Gender=Fem|Number=Sing                                                                   13.819401\n",
      "Definite=Def|Gender=Masc|Number=Sing|PronType=Art                                         5.970184\n",
      "Definite=Def|Gender=Fem|Number=Sing|PronType=Art                                          5.800198\n",
      "Mood=Ind|Number=Sing|Person=3|Tense=Past|VerbForm=Fin                                     4.591919\n",
      "                                                                                           ...    \n",
      "Case=Dat|Number=Sing|Person=3|PronType=Prs|VerbForm=Inf                                   0.002297\n",
      "Case=Dat|Mood=Ind|Number=Plur,Sing|Person=1,3|PronType=Prs|Tense=Past|VerbForm=Fin        0.002297\n",
      "Case=Dat|Mood=Cnd|Number=Sing|Person=1,3|PronType=Prs|VerbForm=Fin                        0.002297\n",
      "Case=Dat|Gender=Fem|Mood=Ind|Number=Sing|Person=3|PronType=Prs|Tense=Imp|VerbForm=Fin     0.002297\n",
      "Case=Dat|Gender=Masc|Number=Plur|Person=3|PronType=Prs|VerbForm=Inf                       0.002297\n",
      "Name: morph, Length: 223, dtype: float64\n",
      "ent_type\n",
      "PER     60.949132\n",
      "MISC    19.571960\n",
      "LOC     16.749380\n",
      "ORG      2.729529\n",
      "Name: ent_type, dtype: float64\n",
      "is_punct\n",
      "False    84.412953\n",
      "True     15.587047\n",
      "Name: is_punct, dtype: float64\n",
      "dep\n",
      "punct           15.434030\n",
      "dep              9.209964\n",
      "case             9.178258\n",
      "det              9.005941\n",
      "nsubj            6.094484\n",
      "ROOT             5.931818\n",
      "obj              5.913897\n",
      "advmod           5.165355\n",
      "obl              4.156270\n",
      "nmod             3.666892\n",
      "mark             3.239547\n",
      "conj             3.010711\n",
      "cc               2.879751\n",
      "cop              2.384858\n",
      "amod             2.375209\n",
      "xcomp            1.888587\n",
      "parataxis        1.695593\n",
      "advcl            1.644587\n",
      "ccomp            1.359231\n",
      "acl:relcl        1.286169\n",
      "acl              0.678237\n",
      "nummod           0.550034\n",
      "fixed            0.548655\n",
      "flat:name        0.496271\n",
      "iobj             0.478350\n",
      "aux              0.443887\n",
      "appos            0.402531\n",
      "expl             0.277085\n",
      "csubj            0.249514\n",
      "aux:pass         0.133717\n",
      "nsubj:pass       0.077198\n",
      "obl:agent        0.074441\n",
      "discourse        0.039977\n",
      "compound         0.019299\n",
      "flat             0.008271\n",
      "flat:foreign     0.001379\n",
      "Name: dep, dtype: float64\n"
     ]
    }
   ],
   "source": [
    "for column_name in df.columns:\n",
    "    print(column_name)\n",
    "    print(df[column_name].value_counts(normalize=True) * 100)\n",
    "    "
   ]
  },
  {
   "cell_type": "code",
   "execution_count": 18,
   "id": "af73b8c6-bd08-4119-b83b-6fdf926c4856",
   "metadata": {},
   "outputs": [
    {
     "name": "stdout",
     "output_type": "stream",
     "text": [
      "texto\n",
      "\\n              6146\n",
      ".               3736\n",
      ",               3385\n",
      "que             1964\n",
      "a               1866\n",
      "                ... \n",
      "subdelegados       1\n",
      "demitidos          1\n",
      "preteridos         1\n",
      "suportá-lo         1\n",
      "FIM                1\n",
      "Name: texto, Length: 8766, dtype: int64\n",
      "lemma\n",
      "\\n           6146\n",
      ".            3736\n",
      "o            3681\n",
      ",            3385\n",
      "que          2038\n",
      "             ... \n",
      "mediano         1\n",
      "aturava-o       1\n",
      "corado          1\n",
      "garço           1\n",
      "FIM             1\n",
      "Name: lemma, Length: 6497, dtype: int64\n",
      "pos\n",
      "PUNCT    11307\n",
      "NOUN     10786\n",
      "VERB      9566\n",
      "ADP       6763\n",
      "DET       6564\n",
      "SPACE     6148\n",
      "PRON      4145\n",
      "ADV       4111\n",
      "PROPN     2898\n",
      "ADJ       2807\n",
      "SCONJ     2353\n",
      "AUX       2216\n",
      "CCONJ     2079\n",
      "NUM        574\n",
      "INTJ       214\n",
      "X            9\n",
      "SYM          1\n",
      "Name: pos, dtype: int64\n",
      "tag\n",
      "PUNCT    11307\n",
      "NOUN     10786\n",
      "VERB      9566\n",
      "ADP       6763\n",
      "DET       6564\n",
      "SPACE     6148\n",
      "PRON      4145\n",
      "ADV       4111\n",
      "PROPN     2898\n",
      "ADJ       2807\n",
      "SCONJ     2353\n",
      "AUX       2216\n",
      "CCONJ     2079\n",
      "NUM        574\n",
      "INTJ       214\n",
      "X            9\n",
      "SYM          1\n",
      "Name: tag, dtype: int64\n",
      "morph\n",
      "Gender=Masc|Number=Sing                                                                  7247\n",
      "Gender=Fem|Number=Sing                                                                   6016\n",
      "Definite=Def|Gender=Masc|Number=Sing|PronType=Art                                        2599\n",
      "Definite=Def|Gender=Fem|Number=Sing|PronType=Art                                         2525\n",
      "Mood=Ind|Number=Sing|Person=3|Tense=Past|VerbForm=Fin                                    1999\n",
      "                                                                                         ... \n",
      "Case=Dat|Number=Sing|Person=3|PronType=Prs|VerbForm=Inf                                     1\n",
      "Case=Dat|Mood=Ind|Number=Plur,Sing|Person=1,3|PronType=Prs|Tense=Past|VerbForm=Fin          1\n",
      "Case=Dat|Mood=Cnd|Number=Sing|Person=1,3|PronType=Prs|VerbForm=Fin                          1\n",
      "Case=Dat|Gender=Fem|Mood=Ind|Number=Sing|Person=3|PronType=Prs|Tense=Imp|VerbForm=Fin       1\n",
      "Case=Dat|Gender=Masc|Number=Plur|Person=3|PronType=Prs|VerbForm=Inf                         1\n",
      "Name: morph, Length: 223, dtype: int64\n",
      "ent_type\n",
      "PER     1965\n",
      "MISC     631\n",
      "LOC      540\n",
      "ORG       88\n",
      "Name: ent_type, dtype: int64\n",
      "is_punct\n",
      "False    61234\n",
      "True     11307\n",
      "Name: is_punct, dtype: int64\n",
      "dep\n",
      "punct           11196\n",
      "dep              6681\n",
      "case             6658\n",
      "det              6533\n",
      "nsubj            4421\n",
      "ROOT             4303\n",
      "obj              4290\n",
      "advmod           3747\n",
      "obl              3015\n",
      "nmod             2660\n",
      "mark             2350\n",
      "conj             2184\n",
      "cc               2089\n",
      "cop              1730\n",
      "amod             1723\n",
      "xcomp            1370\n",
      "parataxis        1230\n",
      "advcl            1193\n",
      "ccomp             986\n",
      "acl:relcl         933\n",
      "acl               492\n",
      "nummod            399\n",
      "fixed             398\n",
      "flat:name         360\n",
      "iobj              347\n",
      "aux               322\n",
      "appos             292\n",
      "expl              201\n",
      "csubj             181\n",
      "aux:pass           97\n",
      "nsubj:pass         56\n",
      "obl:agent          54\n",
      "discourse          29\n",
      "compound           14\n",
      "flat                6\n",
      "flat:foreign        1\n",
      "Name: dep, dtype: int64\n"
     ]
    }
   ],
   "source": [
    "for column_name in df.columns:\n",
    "    print(column_name)\n",
    "    print(df[column_name].value_counts())"
   ]
  },
  {
   "cell_type": "code",
   "execution_count": null,
   "id": "dac360c0-dc94-4ad3-9289-931a983ba40f",
   "metadata": {},
   "outputs": [],
   "source": []
  },
  {
   "cell_type": "code",
   "execution_count": null,
   "id": "c2b9f495-bb36-43b0-92c7-74397bc33432",
   "metadata": {},
   "outputs": [],
   "source": []
  },
  {
   "cell_type": "code",
   "execution_count": null,
   "id": "3dc7b64e-608a-4a2b-8a18-d61ab54e63b1",
   "metadata": {},
   "outputs": [],
   "source": []
  },
  {
   "cell_type": "code",
   "execution_count": null,
   "id": "3580222e-63ba-40d9-b966-52207e32662d",
   "metadata": {},
   "outputs": [],
   "source": []
  },
  {
   "cell_type": "code",
   "execution_count": null,
   "id": "b42b1786-3be5-4116-b1f3-d5269283fabb",
   "metadata": {},
   "outputs": [],
   "source": []
  }
 ],
 "metadata": {
  "kernelspec": {
   "display_name": "Python 3 (ipykernel)",
   "language": "python",
   "name": "python3"
  },
  "language_info": {
   "codemirror_mode": {
    "name": "ipython",
    "version": 3
   },
   "file_extension": ".py",
   "mimetype": "text/x-python",
   "name": "python",
   "nbconvert_exporter": "python",
   "pygments_lexer": "ipython3",
   "version": "3.10.4"
  }
 },
 "nbformat": 4,
 "nbformat_minor": 5
}

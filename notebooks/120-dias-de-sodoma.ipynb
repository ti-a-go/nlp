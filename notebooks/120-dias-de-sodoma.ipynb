{
 "cells": [
  {
   "cell_type": "code",
   "execution_count": 1,
   "id": "2e3bb947-a0d0-4a20-9cd0-4f7cd505bc79",
   "metadata": {},
   "outputs": [
    {
     "name": "stderr",
     "output_type": "stream",
     "text": [
      "/Users/tnascimento/Pessoal/repos/dataplatform/venv/lib/python3.10/site-packages/tqdm/auto.py:22: TqdmWarning: IProgress not found. Please update jupyter and ipywidgets. See https://ipywidgets.readthedocs.io/en/stable/user_install.html\n",
      "  from .autonotebook import tqdm as notebook_tqdm\n"
     ]
    }
   ],
   "source": [
    "import spacy\n",
    "import fr_dep_news_trf\n",
    "nlp_fr = fr_dep_news_trf.load()"
   ]
  },
  {
   "cell_type": "code",
   "execution_count": 2,
   "id": "4a4f56b5-5243-43e6-80f3-237bd4d972f3",
   "metadata": {},
   "outputs": [],
   "source": [
    "data = {\n",
    "    \"Les 120 journées de Sodome\": \"Les cent cinquante passions simples, ou de première classe, composant les trente journées de novembre remplies par la narration de la Duclos, auxquelles sont entremêlés les événements scandaleux du château, en forme de journal, pendant ce mois-là.\"\n",
    "}"
   ]
  },
  {
   "cell_type": "code",
   "execution_count": 5,
   "id": "e4d93f96-4208-4d16-91c0-1e5537bca9f1",
   "metadata": {},
   "outputs": [],
   "source": [
    "nlp = spacy.load(\"fr_dep_news_trf\")\n",
    "\n",
    "doc = nlp(data[\"Les 120 journées de Sodome\"])\n",
    "\n",
    "# print([(w.text, w.pos_) for w in doc])"
   ]
  },
  {
   "cell_type": "code",
   "execution_count": 6,
   "id": "c4f6ddad-a9a6-4291-9405-61e851a7e389",
   "metadata": {},
   "outputs": [
    {
     "name": "stdout",
     "output_type": "stream",
     "text": [
      "[('Les', 'DET'), ('cent', 'NUM'), ('cinquante', 'NUM'), ('passions', 'NOUN'), ('simples', 'ADJ'), (',', 'PUNCT'), ('ou', 'CCONJ'), ('de', 'ADP'), ('première', 'ADJ'), ('classe', 'NOUN'), (',', 'PUNCT'), ('composant', 'VERB'), ('les', 'DET'), ('trente', 'NUM'), ('journées', 'NOUN'), ('de', 'ADP'), ('novembre', 'NOUN'), ('remplies', 'VERB'), ('par', 'ADP'), ('la', 'DET'), ('narration', 'NOUN'), ('de', 'ADP'), ('la', 'DET'), ('Duclos', 'PROPN'), (',', 'PUNCT'), ('auxquelles', 'PRON'), ('sont', 'AUX'), ('entremêlés', 'VERB'), ('les', 'DET'), ('événements', 'NOUN'), ('scandaleux', 'ADJ'), ('du', 'ADP'), ('château', 'NOUN'), (',', 'PUNCT'), ('en', 'ADP'), ('forme', 'NOUN'), ('de', 'ADP'), ('journal', 'NOUN'), (',', 'PUNCT'), ('pendant', 'ADP'), ('ce', 'DET'), ('mois', 'NOUN'), ('-là', 'NOUN'), ('.', 'PUNCT')]\n"
     ]
    }
   ],
   "source": [
    "pos_ = [(w.text, w.pos_) for w in doc]\n",
    "print(pos_)"
   ]
  },
  {
   "cell_type": "code",
   "execution_count": 7,
   "id": "ac5606c7-1b89-4053-81db-fb2fde224f32",
   "metadata": {},
   "outputs": [],
   "source": [
    "import pandas as pd"
   ]
  },
  {
   "cell_type": "code",
   "execution_count": 8,
   "id": "43f48a4a-5cbb-4254-829f-b26a44d37aac",
   "metadata": {},
   "outputs": [],
   "source": [
    "df = pd.DataFrame(pos_)"
   ]
  },
  {
   "cell_type": "code",
   "execution_count": 9,
   "id": "36e7ba63-0397-4ee3-be03-3837387296f5",
   "metadata": {},
   "outputs": [
    {
     "data": {
      "text/html": [
       "<div>\n",
       "<style scoped>\n",
       "    .dataframe tbody tr th:only-of-type {\n",
       "        vertical-align: middle;\n",
       "    }\n",
       "\n",
       "    .dataframe tbody tr th {\n",
       "        vertical-align: top;\n",
       "    }\n",
       "\n",
       "    .dataframe thead th {\n",
       "        text-align: right;\n",
       "    }\n",
       "</style>\n",
       "<table border=\"1\" class=\"dataframe\">\n",
       "  <thead>\n",
       "    <tr style=\"text-align: right;\">\n",
       "      <th></th>\n",
       "      <th>0</th>\n",
       "      <th>1</th>\n",
       "    </tr>\n",
       "  </thead>\n",
       "  <tbody>\n",
       "    <tr>\n",
       "      <th>0</th>\n",
       "      <td>Les</td>\n",
       "      <td>DET</td>\n",
       "    </tr>\n",
       "    <tr>\n",
       "      <th>1</th>\n",
       "      <td>cent</td>\n",
       "      <td>NUM</td>\n",
       "    </tr>\n",
       "    <tr>\n",
       "      <th>2</th>\n",
       "      <td>cinquante</td>\n",
       "      <td>NUM</td>\n",
       "    </tr>\n",
       "    <tr>\n",
       "      <th>3</th>\n",
       "      <td>passions</td>\n",
       "      <td>NOUN</td>\n",
       "    </tr>\n",
       "    <tr>\n",
       "      <th>4</th>\n",
       "      <td>simples</td>\n",
       "      <td>ADJ</td>\n",
       "    </tr>\n",
       "  </tbody>\n",
       "</table>\n",
       "</div>"
      ],
      "text/plain": [
       "           0     1\n",
       "0        Les   DET\n",
       "1       cent   NUM\n",
       "2  cinquante   NUM\n",
       "3   passions  NOUN\n",
       "4    simples   ADJ"
      ]
     },
     "execution_count": 9,
     "metadata": {},
     "output_type": "execute_result"
    }
   ],
   "source": [
    "df.head()"
   ]
  },
  {
   "cell_type": "code",
   "execution_count": 10,
   "id": "a8a8bd40-d012-434c-956e-b4134ff70115",
   "metadata": {},
   "outputs": [],
   "source": [
    "df.columns = [\"name\", \"pos\"]"
   ]
  },
  {
   "cell_type": "code",
   "execution_count": 11,
   "id": "473a0ebf-090e-4d0f-9f2b-9e874ac5f67a",
   "metadata": {},
   "outputs": [
    {
     "data": {
      "text/html": [
       "<div>\n",
       "<style scoped>\n",
       "    .dataframe tbody tr th:only-of-type {\n",
       "        vertical-align: middle;\n",
       "    }\n",
       "\n",
       "    .dataframe tbody tr th {\n",
       "        vertical-align: top;\n",
       "    }\n",
       "\n",
       "    .dataframe thead th {\n",
       "        text-align: right;\n",
       "    }\n",
       "</style>\n",
       "<table border=\"1\" class=\"dataframe\">\n",
       "  <thead>\n",
       "    <tr style=\"text-align: right;\">\n",
       "      <th></th>\n",
       "      <th>name</th>\n",
       "      <th>pos</th>\n",
       "    </tr>\n",
       "  </thead>\n",
       "  <tbody>\n",
       "    <tr>\n",
       "      <th>0</th>\n",
       "      <td>Les</td>\n",
       "      <td>DET</td>\n",
       "    </tr>\n",
       "    <tr>\n",
       "      <th>1</th>\n",
       "      <td>cent</td>\n",
       "      <td>NUM</td>\n",
       "    </tr>\n",
       "    <tr>\n",
       "      <th>2</th>\n",
       "      <td>cinquante</td>\n",
       "      <td>NUM</td>\n",
       "    </tr>\n",
       "    <tr>\n",
       "      <th>3</th>\n",
       "      <td>passions</td>\n",
       "      <td>NOUN</td>\n",
       "    </tr>\n",
       "    <tr>\n",
       "      <th>4</th>\n",
       "      <td>simples</td>\n",
       "      <td>ADJ</td>\n",
       "    </tr>\n",
       "  </tbody>\n",
       "</table>\n",
       "</div>"
      ],
      "text/plain": [
       "        name   pos\n",
       "0        Les   DET\n",
       "1       cent   NUM\n",
       "2  cinquante   NUM\n",
       "3   passions  NOUN\n",
       "4    simples   ADJ"
      ]
     },
     "execution_count": 11,
     "metadata": {},
     "output_type": "execute_result"
    }
   ],
   "source": [
    "df.head()"
   ]
  },
  {
   "cell_type": "code",
   "execution_count": 15,
   "id": "3c0da5b9-cfcf-4682-a8fd-6e029de1f376",
   "metadata": {},
   "outputs": [
    {
     "data": {
      "text/plain": [
       "NOUN     11\n",
       "ADP       8\n",
       "DET       6\n",
       "PUNCT     6\n",
       "NUM       3\n",
       "ADJ       3\n",
       "VERB      3\n",
       "CCONJ     1\n",
       "PROPN     1\n",
       "PRON      1\n",
       "AUX       1\n",
       "Name: pos, dtype: int64"
      ]
     },
     "execution_count": 15,
     "metadata": {},
     "output_type": "execute_result"
    }
   ],
   "source": [
    "df[\"pos\"].value_counts()"
   ]
  },
  {
   "cell_type": "code",
   "execution_count": 26,
   "id": "be76dc3c-ced4-4bce-824a-c620f5676c9f",
   "metadata": {},
   "outputs": [
    {
     "name": "stdout",
     "output_type": "stream",
     "text": [
      "<class 'str'>\n",
      "<class 'str'>\n"
     ]
    }
   ],
   "source": [
    "for pos in df:\n",
    "    print(type(pos))"
   ]
  },
  {
   "cell_type": "code",
   "execution_count": 30,
   "id": "e0cbd5fa-eeeb-40c2-b836-696fb46d77aa",
   "metadata": {},
   "outputs": [
    {
     "data": {
      "text/html": [
       "<div>\n",
       "<style scoped>\n",
       "    .dataframe tbody tr th:only-of-type {\n",
       "        vertical-align: middle;\n",
       "    }\n",
       "\n",
       "    .dataframe tbody tr th {\n",
       "        vertical-align: top;\n",
       "    }\n",
       "\n",
       "    .dataframe thead th {\n",
       "        text-align: right;\n",
       "    }\n",
       "</style>\n",
       "<table border=\"1\" class=\"dataframe\">\n",
       "  <thead>\n",
       "    <tr style=\"text-align: right;\">\n",
       "      <th></th>\n",
       "      <th>name</th>\n",
       "      <th>pos</th>\n",
       "    </tr>\n",
       "  </thead>\n",
       "  <tbody>\n",
       "    <tr>\n",
       "      <th>11</th>\n",
       "      <td>composant</td>\n",
       "      <td>VERB</td>\n",
       "    </tr>\n",
       "    <tr>\n",
       "      <th>17</th>\n",
       "      <td>remplies</td>\n",
       "      <td>VERB</td>\n",
       "    </tr>\n",
       "    <tr>\n",
       "      <th>27</th>\n",
       "      <td>entremêlés</td>\n",
       "      <td>VERB</td>\n",
       "    </tr>\n",
       "  </tbody>\n",
       "</table>\n",
       "</div>"
      ],
      "text/plain": [
       "          name   pos\n",
       "11   composant  VERB\n",
       "17    remplies  VERB\n",
       "27  entremêlés  VERB"
      ]
     },
     "execution_count": 30,
     "metadata": {},
     "output_type": "execute_result"
    }
   ],
   "source": [
    "df[df[\"pos\"] == 'VERB']"
   ]
  },
  {
   "cell_type": "code",
   "execution_count": null,
   "id": "cf88ce43-dec3-4884-85f7-5cff43eb1fb0",
   "metadata": {},
   "outputs": [],
   "source": []
  }
 ],
 "metadata": {
  "kernelspec": {
   "display_name": "Python 3 (ipykernel)",
   "language": "python",
   "name": "python3"
  },
  "language_info": {
   "codemirror_mode": {
    "name": "ipython",
    "version": 3
   },
   "file_extension": ".py",
   "mimetype": "text/x-python",
   "name": "python",
   "nbconvert_exporter": "python",
   "pygments_lexer": "ipython3",
   "version": "3.10.6"
  }
 },
 "nbformat": 4,
 "nbformat_minor": 5
}

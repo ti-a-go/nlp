{
 "cells": [
  {
   "cell_type": "markdown",
   "id": "139840b7-2dc9-44fd-aaf7-d3d1184ce84b",
   "metadata": {},
   "source": [
    "Você sabe a diferença entre \"internet\" e \"web\"?"
   ]
  },
  {
   "cell_type": "code",
   "execution_count": 1,
   "id": "9bdcbc51-d0b9-4060-b689-e08368ad7012",
   "metadata": {},
   "outputs": [],
   "source": [
    "# sem apagar as aspas \" digite não se voção não sabe a diferença e execute essa sélula\n",
    "resposta = \"sim\""
   ]
  },
  {
   "cell_type": "markdown",
   "id": "04bb8a4c-4518-4fa5-849f-8b2d1e9899d8",
   "metadata": {},
   "source": [
    "Eu vou tentar te apresentar a diferença entre essas duas palavras através de uma história. Na verdade eu vou te apresentar uma história sobre a importância da comunicação. Tanto a internet quanto a web são conceitos que envolve a comunicação de seres humanos com seres humanos, seres humanos com robôs e robôs com robôs, pasmem!\n",
    "\n",
    "Agô\n",
    "\n",
    "Na cultura baiana quem rege a comunicação é Exu e por isso eu pesso licença e a bença.\n",
    "\n",
    "Existe uma história que Exu ajudou Orumilá a resolver os problemas das pessoas e dos orixás. Essa história é sobre comunicação e por isso vai nos ajudar a compreender como a internet e a web são e funcionam.\n",
    "\n",
    "Mas antes vamos à história.\n",
    "\n",
    "Laroiê"
   ]
  },
  {
   "cell_type": "markdown",
   "id": "d0ff0c48-e82a-4ae8-ad0e-8b00bb602a71",
   "metadata": {},
   "source": [
    "# Exu leva aos homens o oráculo de Ifá\n",
    "\n",
    "Em épocas remotas os orixás passaram fome.\n",
    "Às vezes, por longos períodos, eles não recebiam bastente comida de seus filhos que viviam na Terra.\n",
    "Os orixás cada vez mais se indispunham uns com os outros e lutavam entre si guerras assombrosas.\n",
    "Os descendentes dos orixás não pensavam mais neles e os orixás se perguntavam o que poderiam fazer.\n",
    "Como ser novamente alimantados pelos homens?\n",
    "Os homens não faziam mais oferendas e os orixás tinham fome.\n",
    "Sem a proteção dos deuses, a desgraça tinha se abatido sobre a Terra e os homens viviam doentes, pobres, infelizes.\n",
    "\n",
    "Um dia Exu pegou a estrada e foi em busca de solução.\n",
    "Exu foi até Iemanjá em busca de algo que pudesse recuperar a boa vontade dos homens.\n",
    "Iemanjá lhe disse:\n",
    "\"Nada conseguirás. Xapanã já tentou afligir os homens com doenças, mas eles não vieram lhe oferecer sacrifícios\".\n",
    "Iemanjá disse:\n",
    "\"Exu matará todos os homens,"
   ]
  }
 ],
 "metadata": {
  "kernelspec": {
   "display_name": "Python 3 (ipykernel)",
   "language": "python",
   "name": "python3"
  },
  "language_info": {
   "codemirror_mode": {
    "name": "ipython",
    "version": 3
   },
   "file_extension": ".py",
   "mimetype": "text/x-python",
   "name": "python",
   "nbconvert_exporter": "python",
   "pygments_lexer": "ipython3",
   "version": "3.10.4"
  }
 },
 "nbformat": 4,
 "nbformat_minor": 5
}
